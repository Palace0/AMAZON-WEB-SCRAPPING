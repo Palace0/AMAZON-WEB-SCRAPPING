{
 "cells": [
  {
   "cell_type": "code",
   "execution_count": 1,
   "id": "2da7b27a-07fb-443a-a63e-0836b30800ed",
   "metadata": {},
   "outputs": [],
   "source": [
    "#import libraries\n",
    "from bs4 import BeautifulSoup \n",
    "import requests\n",
    "import smtplib\n",
    "import time\n",
    "import datetime\n"
   ]
  },
  {
   "cell_type": "code",
   "execution_count": 11,
   "id": "a5e33a06-6920-4873-bae0-4a51dd196aef",
   "metadata": {},
   "outputs": [
    {
     "name": "stdout",
     "output_type": "stream",
     "text": [
      "\n",
      "                    Funny Got Data MIS Data Systems Business Analyst T-Shirt\n",
      "                   \n",
      "$16.99\n"
     ]
    }
   ],
   "source": [
    "#connect to website\n",
    "URL = 'https://www.amazon.com/Funny-Data-Systems-Business-Analyst/dp/B07FNW9FGJ?customId=B0752XJYNL&customizationToken=MC_Assembly_1%23B0752XJYNL&th=1'\n",
    "headers =  {\"User-Agent\": \"Mozilla/5.0 (Windows NT 10.0; Win64; x64) AppleWebKit/537.36 (KHTML, like Gecko) Chrome/128.0.0.0 Safari/537.36\",\"Accept-Encoding\": \"gzip, deflate\", \"Accept\": \"text/html,application/xhtml+xml,application/xml;q=0.9,image/avif,image/webp,image/apng,*/*;q=0.8,application/signed-exchange;v=b3;q=0.7\",  \"Upgrade-Insecure-Requests\": \"1\"}\n",
    "page= requests.get(URL, headers=headers)\n",
    "\n",
    "soup1= BeautifulSoup(page.content, \"html.parser\")\n",
    "\n",
    "soup2 = BeautifulSoup(soup1.prettify(), \"html.parser\")\n",
    "\n",
    "title= soup2.find (id= 'productTitle').get_text()\n",
    "\n",
    "# Extract the whole and fractional parts of the price\n",
    "#price_whole = soup2.find(class_='a-price-whole')\n",
    "#price_fraction = soup2.find(class_='a-price-fraction')\n",
    "\n",
    "# If both parts are found, combine them to get the full price\n",
    "#if price_whole and price_fraction:\n",
    " #   price = f\"{price_whole.get_text().strip()}.{price_fraction.get_text().strip()}\"\n",
    "#else:\n",
    " #   price = 'Price not available'\n",
    "# Extract the symbol, whole, and fractional parts of the price\n",
    "price_symbol = soup2.find(class_='a-price-symbol')\n",
    "price_whole = soup2.find(class_='a-price-whole')\n",
    "price_fraction = soup2.find(class_='a-price-fraction')\n",
    "\n",
    "# Initialize the price variable\n",
    "price = ''\n",
    "\n",
    "# Add the price symbol if it exists (e.g., \"$\")\n",
    "if price_symbol:\n",
    "    price += price_symbol.get_text().strip()\n",
    "\n",
    "# Add the whole part of the price, or '0' if not available\n",
    "if price_whole:\n",
    "    price += price_whole.get_text().replace('\\n','').replace(' ','').replace('.','')\n",
    "else:\n",
    "    price += '0'  # Default whole price to '0' if not found\n",
    "\n",
    "# Add the fractional part if it exists, or '.00' for a cleaner format\n",
    "if price_fraction:\n",
    "    price += '.' + price_fraction.get_text().replace('\\n','').replace(' ','')\n",
    "else:\n",
    "    price += '.00'  # Default fractional part to '.00' if not found\n",
    "\n",
    "\n",
    "\n",
    "\n",
    "print (title)\n",
    "print(price)\n",
    "\n",
    "\n"
   ]
  },
  {
   "cell_type": "code",
   "execution_count": 15,
   "id": "6a1be543-4415-4211-a58a-d062be5bae67",
   "metadata": {},
   "outputs": [
    {
     "name": "stdout",
     "output_type": "stream",
     "text": [
      "Funny Got Data MIS Data Systems Business Analyst T-Shirt\n",
      "16.99\n"
     ]
    }
   ],
   "source": [
    "price = price.strip()[1:]\n",
    "title = title.strip()\n",
    "print(title)\n",
    "print(price)"
   ]
  },
  {
   "cell_type": "code",
   "execution_count": 17,
   "id": "97310a43-404d-4f7b-a354-f06d0bfb5e69",
   "metadata": {},
   "outputs": [
    {
     "name": "stdout",
     "output_type": "stream",
     "text": [
      "2024-09-23\n"
     ]
    }
   ],
   "source": [
    "import datetime\n",
    "\n",
    "today =datetime.date.today()\n",
    "print(today)"
   ]
  },
  {
   "cell_type": "code",
   "execution_count": 61,
   "id": "94f9dbeb-2bd3-46b1-8141-ade0f684a516",
   "metadata": {},
   "outputs": [],
   "source": [
    "import csv\n",
    "header = ['Title', 'Price', 'Date']\n",
    "\n",
    "data = [title, price, today]\n",
    "\n",
    "with open ('Amazonwebscrapperdataset.csv', 'w', newline='', encoding='UTF8') as f:\n",
    "    writer= csv.writer(f)\n",
    "    writer.writerow(header)\n",
    "    writer.writerow(data)"
   ]
  },
  {
   "cell_type": "code",
   "execution_count": 79,
   "id": "45f7733c-95f0-468d-86e4-5dc1a325ad6d",
   "metadata": {},
   "outputs": [
    {
     "name": "stdout",
     "output_type": "stream",
     "text": [
      "                                               Title  Price        Date\n",
      "0  Funny Got Data MIS Data Systems Business Analy...  16.99  2024-09-23\n",
      "1  Funny Got Data MIS Data Systems Business Analy...  16.99  2024-09-23\n",
      "2  Funny Got Data MIS Data Systems Business Analy...  16.99  2024-09-23\n",
      "3  Funny Got Data MIS Data Systems Business Analy...  16.99  2024-09-23\n",
      "4  Funny Got Data MIS Data Systems Business Analy...  16.99  2024-09-23\n"
     ]
    }
   ],
   "source": [
    "import pandas as pd\n",
    "df =pd.read_csv(\"C:/Users/pc/Amazonwebscrapperdataset.csv\")\n",
    "print(df)"
   ]
  },
  {
   "cell_type": "code",
   "execution_count": 77,
   "id": "f189f574-f270-48ae-b133-a7bcd315a480",
   "metadata": {},
   "outputs": [],
   "source": [
    "#appending the data\n",
    "\n",
    "with open ('Amazonwebscrapperdataset.csv', 'a+', newline='', encoding='UTF8') as f:\n",
    "    writer= csv.writer(f)\n",
    "    writer.writerow(data)"
   ]
  },
  {
   "cell_type": "code",
   "execution_count": 97,
   "id": "d91790d8-9c3e-44a2-87ce-0461465a05e2",
   "metadata": {},
   "outputs": [],
   "source": [
    "def check_price():\n",
    "    URL = 'https://www.amazon.com/Funny-Data-Systems-Business-Analyst/dp/B07FNW9FGJ?customId=B0752XJYNL&customizationToken=MC_Assembly_1%23B0752XJYNL&th=1'\n",
    "    headers =  {\"User-Agent\": \"Mozilla/5.0 (Windows NT 10.0; Win64; x64) AppleWebKit/537.36 (KHTML, like Gecko) Chrome/128.0.0.0 Safari/537.36\",\"Accept-Encoding\": \"gzip, deflate\", \"Accept\": \"text/html,application/xhtml+xml,application/xml;q=0.9,image/avif,image/webp,image/apng,*/*;q=0.8,application/signed-exchange;v=b3;q=0.7\",  \"Upgrade-Insecure-Requests\": \"1\"}\n",
    "    page= requests.get(URL, headers=headers)\n",
    "\n",
    "    soup1= BeautifulSoup(page.content, \"html.parser\")\n",
    "\n",
    "    soup2 = BeautifulSoup(soup1.prettify(), \"html.parser\")\n",
    "\n",
    "    title= soup2.find (id= 'productTitle').get_text()\n",
    "\n",
    "    price_symbol = soup2.find(class_='a-price-symbol')\n",
    "    price_whole = soup2.find(class_='a-price-whole')\n",
    "    price_fraction = soup2.find(class_='a-price-fraction')\n",
    "\n",
    "# Initialize the price variable\n",
    "    price = ''\n",
    "\n",
    "# Add the price symbol if it exists (e.g., \"$\")\n",
    "    if price_symbol:\n",
    "       price += price_symbol.get_text().strip()\n",
    "\n",
    "# Add the whole part of the price, or '0' if not available\n",
    "    if price_whole:\n",
    "       price += price_whole.get_text().replace('\\n','').replace(' ','').replace('.','')\n",
    "    else:\n",
    "       price += '0'  # Default whole price to '0' if not found\n",
    "\n",
    "# Add the fractional part if it exists, or '.00' for a cleaner format\n",
    "    if price_fraction:\n",
    "       price += '.' + price_fraction.get_text().replace('\\n','').replace(' ','')\n",
    "    else:\n",
    "        price += '.00'  # Default fractional part to '.00' if not found\n",
    "\n",
    "    price = price.strip()[1:]\n",
    "    title = title.strip()\n",
    "    import datetime\n",
    "    today =datetime.date.today()\n",
    "\n",
    "    import csv\n",
    "    header = ['Title', 'Price', 'Date']\n",
    "\n",
    "    data = [title, price, today]\n",
    "\n",
    "    with open ('Amazonwebscrapperdataset.csv', 'w', newline='', encoding='UTF8') as f:\n",
    "         writer= csv.writer(f)\n",
    "         writer.writerow(data)\n",
    "\n",
    "\n"
   ]
  },
  {
   "cell_type": "code",
   "execution_count": 107,
   "id": "c196636b-01ca-48f6-806a-776b1f1c7e6f",
   "metadata": {},
   "outputs": [
    {
     "ename": "KeyboardInterrupt",
     "evalue": "",
     "output_type": "error",
     "traceback": [
      "\u001b[1;31m---------------------------------------------------------------------------\u001b[0m",
      "\u001b[1;31mKeyboardInterrupt\u001b[0m                         Traceback (most recent call last)",
      "Cell \u001b[1;32mIn[107], line 3\u001b[0m\n\u001b[0;32m      1\u001b[0m \u001b[38;5;28;01mwhile\u001b[39;00m (\u001b[38;5;28;01mTrue\u001b[39;00m):\n\u001b[0;32m      2\u001b[0m     check_price()\n\u001b[1;32m----> 3\u001b[0m     time\u001b[38;5;241m.\u001b[39msleep(\u001b[38;5;241m5\u001b[39m)\n",
      "\u001b[1;31mKeyboardInterrupt\u001b[0m: "
     ]
    }
   ],
   "source": [
    "while (True):\n",
    "    check_price()\n",
    "    time.sleep(5)"
   ]
  },
  {
   "cell_type": "code",
   "execution_count": 109,
   "id": "9b2d0830-b05a-4ce0-b933-ba6ad5587cfd",
   "metadata": {},
   "outputs": [
    {
     "name": "stdout",
     "output_type": "stream",
     "text": [
      "Empty DataFrame\n",
      "Columns: [Funny Got Data MIS Data Systems Business Analyst T-Shirt, 16.99, 2024-09-23]\n",
      "Index: []\n"
     ]
    }
   ],
   "source": [
    "import pandas as pd\n",
    "df =pd.read_csv(\"C:/Users/pc/Amazonwebscrapperdataset.csv\")\n",
    "print(df)"
   ]
  },
  {
   "cell_type": "code",
   "execution_count": 111,
   "id": "e5366a09-c73f-451d-9319-426bf3ff7b3b",
   "metadata": {},
   "outputs": [
    {
     "name": "stderr",
     "output_type": "stream",
     "text": [
      "\n",
      "KeyboardInterrupt\n",
      "\n"
     ]
    }
   ],
   "source": [
    "import pandas as pd\n",
    "import time\n",
    "from datetime import datetime\n",
    "\n",
    "# Function to check the price and append to the CSV\n",
    "def check_price():\n",
    "    # Simulating extracted data (replace this with actual extracted price data)\n",
    "    title = \"Funny Got Data MIS Data Systems Business Analyst T-Shirt\"\n",
    "    price = \"16.99\"\n",
    "    timestamp = datetime.now().strftime('%Y-%m-%d')\n",
    "\n",
    "    # Create a DataFrame with the new data\n",
    "    data = {'Title': [title], 'Price': [price], 'Date': [timestamp]}\n",
    "    df = pd.DataFrame(data)\n",
    "\n",
    "    # Append to the CSV without overwriting previous data\n",
    "    df.to_csv(\"C:/Users/pc/Amazonwebscrapperdataset.csv\", mode='a', header=False, index=False)\n",
    "\n",
    "# Add headers to the CSV file if it doesn't exist\n",
    "def initialize_csv():\n",
    "    df = pd.DataFrame(columns=['Title', 'Price', 'Date'])\n",
    "    df.to_csv(\"C:/Users/pc/Amazonwebscrapperdataset.csv\", mode='w', header=True, index=False)\n",
    "\n",
    "# Initialize the CSV with headers (run this once)\n",
    "initialize_csv()\n",
    "\n",
    "# Loop to keep checking price and appending to CSV\n",
    "while True:\n",
    "    check_price()\n",
    "    time.sleep(5)  # Wait for 5 seconds before the next check\n"
   ]
  },
  {
   "cell_type": "code",
   "execution_count": 114,
   "id": "a1a43f13-f4ae-491e-8409-218135e59bdb",
   "metadata": {},
   "outputs": [
    {
     "name": "stdout",
     "output_type": "stream",
     "text": [
      "                                                  Title  Price        Date\n",
      "0     Funny Got Data MIS Data Systems Business Analy...  16.99  2024-09-23\n",
      "1     Funny Got Data MIS Data Systems Business Analy...  16.99  2024-09-23\n",
      "2     Funny Got Data MIS Data Systems Business Analy...  16.99  2024-09-23\n",
      "3     Funny Got Data MIS Data Systems Business Analy...  16.99  2024-09-23\n",
      "4     Funny Got Data MIS Data Systems Business Analy...  16.99  2024-09-23\n",
      "...                                                 ...    ...         ...\n",
      "4100  Funny Got Data MIS Data Systems Business Analy...  16.99  2024-09-23\n",
      "4101  Funny Got Data MIS Data Systems Business Analy...  16.99  2024-09-23\n",
      "4102  Funny Got Data MIS Data Systems Business Analy...  16.99  2024-09-23\n",
      "4103  Funny Got Data MIS Data Systems Business Analy...  16.99  2024-09-23\n",
      "4104  Funny Got Data MIS Data Systems Business Analy...  16.99  2024-09-23\n",
      "\n",
      "[4105 rows x 3 columns]\n"
     ]
    }
   ],
   "source": [
    "import pandas as pd\n",
    "df =pd.read_csv(\"C:/Users/pc/Amazonwebscrapperdataset.csv\")\n",
    "print(df)"
   ]
  },
  {
   "cell_type": "code",
   "execution_count": null,
   "id": "4ac6ac3a-2884-46b9-b253-7c39d2f0e6ae",
   "metadata": {},
   "outputs": [],
   "source": []
  }
 ],
 "metadata": {
  "kernelspec": {
   "display_name": "Python 3 (ipykernel)",
   "language": "python",
   "name": "python3"
  },
  "language_info": {
   "codemirror_mode": {
    "name": "ipython",
    "version": 3
   },
   "file_extension": ".py",
   "mimetype": "text/x-python",
   "name": "python",
   "nbconvert_exporter": "python",
   "pygments_lexer": "ipython3",
   "version": "3.12.4"
  }
 },
 "nbformat": 4,
 "nbformat_minor": 5
}
